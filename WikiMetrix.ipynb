{
  "nbformat": 4,
  "nbformat_minor": 0,
  "metadata": {
    "colab": {
      "provenance": [],
      "toc_visible": true,
      "authorship_tag": "ABX9TyN5rmxozf1BrpFyqjGHwuGr",
      "include_colab_link": true
    },
    "kernelspec": {
      "name": "python3",
      "display_name": "Python 3"
    },
    "language_info": {
      "name": "python"
    }
  },
  "cells": [
    {
      "cell_type": "code",
      "source": [
        "# @title\n",
        "%%html\n",
        "<div style=\"font-size: 16px; max-width: 1024px\">\n",
        "  <img\n",
        "    style=\"float: right; max-width: 50%; height: auto\"\n",
        "    alt=\"Wikimedia Illustration Header Detail Projekte\"\n",
        "    src=\"https://upload.wikimedia.org/wikipedia/commons/thumb/a/ae/Wikimedia_Illustration_Header_Detail_Projekte.png/512px-Wikimedia_Illustration_Header_Detail_Projekte.png\"\n",
        "  />\n",
        "  <h1>WikiMetrix</h1>\n",
        "\n",
        "  <a target=\"_blank\" href=\"https://github.com/temporal-communities/wiki-metrix\"\n",
        "    ><img\n",
        "      alt=\"GitHub: temporal-communities/wiki-metrix\"\n",
        "      src=\"https://img.shields.io/badge/temporal--communities-wiki--metrix-blue?logo=GitHub\"\n",
        "  /></a>\n",
        "\n",
        "  <p style=\"font-size: 20px\">\n",
        "    Jupyter notebook to retrieve and visualise article-level Wikipedia data\n",
        "  </p>\n",
        "  <p>\n",
        "    The collaboratively edited online encyclopaedia Wikipedia currently contains\n",
        "    over 60 million articles in over 300 language editions, covering topics\n",
        "    across many fields of knowledge. Scholars of reception-oriented literary\n",
        "    studies have also discovered Wikipedia as a research topic and a data\n",
        "    resource, as it collects encyclopaedic entries and metadata about\n",
        "    literature, authors, literary works, genres, periods and other categories\n",
        "    relevant to the history of literature.\n",
        "  </p>\n",
        "  <p>\n",
        "    Data-analytical evaluation of various Wikipedia metrics opens up an\n",
        "    opportunity to empirically assess engagement with literature on Wikipedia\n",
        "    and to further diversify statements about literary canonisation, valuation\n",
        "    practices and popularity in the context of open encyclopaedia projects. This\n",
        "    Jupyter notebook, developed by Research Area 5\n",
        "    <em>Building Digital Communities</em> of the Cluster of Excellence\n",
        "    <em>Temporal Communities</em>, is a user-friendly tool for retrieving and\n",
        "    visualising article-level data from Wikipedia.\n",
        "  </p>\n",
        "</div>\n",
        "<small>\n",
        "  <p>\n",
        "    Illustration:\n",
        "    <a\n",
        "      target=\"_blank\"\n",
        "      href=\"https://commons.wikimedia.org/wiki/File:Wikimedia_Illustration_Header_Detail_Projekte.png\"\n",
        "      >Kati Szilágyi für Wikimedia Deutschland e. V.</a\n",
        "    >,\n",
        "    <a target=\"_blank\" href=\"https://creativecommons.org/licenses/by-sa/4.0\"\n",
        "      >CC BY-SA 4.0</a\n",
        "    >, via Wikimedia Commons\n",
        "  </p>\n",
        "</small>"
      ],
      "metadata": {
        "cellView": "form",
        "id": "9eYOkoOPP8V9",
        "outputId": "d21c72e7-b80e-4feb-bed1-bfa40595f38c",
        "colab": {
          "base_uri": "https://localhost:8080/",
          "height": 499
        }
      },
      "execution_count": 94,
      "outputs": [
        {
          "output_type": "display_data",
          "data": {
            "text/plain": [
              "<IPython.core.display.HTML object>"
            ],
            "text/html": [
              "<div style=\"font-size: 16px; max-width: 1024px\">\n",
              "  <img\n",
              "    style=\"float: right; max-width: 50%; height: auto\"\n",
              "    alt=\"Wikimedia Illustration Header Detail Projekte\"\n",
              "    src=\"https://upload.wikimedia.org/wikipedia/commons/thumb/a/ae/Wikimedia_Illustration_Header_Detail_Projekte.png/512px-Wikimedia_Illustration_Header_Detail_Projekte.png\"\n",
              "  />\n",
              "  <h1>WikiMetrix</h1>\n",
              "\n",
              "  <a target=\"_blank\" href=\"https://github.com/temporal-communities/wiki-metrix\"\n",
              "    ><img\n",
              "      alt=\"GitHub: temporal-communities/wiki-metrix\"\n",
              "      src=\"https://img.shields.io/badge/temporal--communities-wiki--metrix-blue?logo=GitHub\"\n",
              "  /></a>\n",
              "\n",
              "  <p style=\"font-size: 20px\">\n",
              "    Jupyter notebook to retrieve and visualise article-level Wikipedia data\n",
              "  </p>\n",
              "  <p>\n",
              "    The collaboratively edited online encyclopaedia Wikipedia currently contains\n",
              "    over 60 million articles in over 300 language editions, covering topics\n",
              "    across many fields of knowledge. Scholars of reception-oriented literary\n",
              "    studies have also discovered Wikipedia as a research topic and a data\n",
              "    resource, as it collects encyclopaedic entries and metadata about\n",
              "    literature, authors, literary works, genres, periods and other categories\n",
              "    relevant to the history of literature.\n",
              "  </p>\n",
              "  <p>\n",
              "    Data-analytical evaluation of various Wikipedia metrics opens up an\n",
              "    opportunity to empirically assess engagement with literature on Wikipedia\n",
              "    and to further diversify statements about literary canonisation, valuation\n",
              "    practices and popularity in the context of open encyclopaedia projects. This\n",
              "    Jupyter notebook, developed in Research Area 5\n",
              "    <em>Building Digital Communities</em> of the Cluster of Excellence\n",
              "    <em>Temporal Communities</em>, is a user-friendly tool for retrieving and\n",
              "    visualising article-level data from Wikipedia.\n",
              "  </p>\n",
              "</div>\n",
              "<small>\n",
              "  <p>\n",
              "    Illustration:\n",
              "    <a\n",
              "      target=\"_blank\"\n",
              "      href=\"https://commons.wikimedia.org/wiki/File:Wikimedia_Illustration_Header_Detail_Projekte.png\"\n",
              "      >Kati Szilágyi für Wikimedia Deutschland e. V.</a\n",
              "    >,\n",
              "    <a target=\"_blank\" href=\"https://creativecommons.org/licenses/by-sa/4.0\"\n",
              "      >CC BY-SA 4.0</a\n",
              "    >, via Wikimedia Commons\n",
              "  </p>\n",
              "</small>\n"
            ]
          },
          "metadata": {}
        }
      ]
    },
    {
      "cell_type": "markdown",
      "source": [
        "# 🛠️ Setup – Run once"
      ],
      "metadata": {
        "id": "z13fgNtjQmpI"
      }
    },
    {
      "cell_type": "code",
      "source": [
        "# @title Code download\n",
        "# @markdown This block initialises the notebook.\n",
        "!rm -r sample_data\n",
        "!mkdir data\n",
        "!mkdir export\n",
        "!mkdir plots\n",
        "!git clone https://github.com/temporal-communities/wiki-metrix\n",
        "!mv wiki-metrix/* .\n",
        "!rm -r wiki-metrix\n"
      ],
      "metadata": {
        "id": "6sud4v-0YF9n",
        "cellView": "form"
      },
      "execution_count": null,
      "outputs": []
    },
    {
      "cell_type": "code",
      "source": [
        "# @title Package installation\n",
        "# @markdown This block installs the required packages.\n",
        "!pip install -r requirements.txt"
      ],
      "metadata": {
        "id": "LAB_TFHIBRMS",
        "cellView": "form"
      },
      "execution_count": null,
      "outputs": []
    },
    {
      "cell_type": "code",
      "source": [
        "# @title Package imports\n",
        "# @markdown This block imports the necessary packages.\n",
        "from lib import wikimetrix\n",
        "import polars as pl\n",
        "import plotly.express as px\n",
        "# Colab files handling\n",
        "from google.colab import files\n",
        "import os"
      ],
      "metadata": {
        "id": "fe4WF7iXA85V",
        "cellView": "form"
      },
      "execution_count": null,
      "outputs": []
    },
    {
      "cell_type": "markdown",
      "source": [
        "# 📚 Selection Method\n",
        "\n",
        "This notebook supports multiple selection methods that determine the way the list of articles is compiled.\n",
        "\n",
        "__Note:__ When parsing page names, formats with spaces (`Charlotte Brontë`) and underscores (`Charlotte_Brontë`) are both supported."
      ],
      "metadata": {
        "id": "_rQRxeVN8QPW"
      }
    },
    {
      "cell_type": "markdown",
      "source": [
        "## Article’s language links (`langlinks`)\n",
        "This method compiles all interlanguage links of a certain article, i.e. versions of the article on other editions of the site. The `selection` should be an article title.\n",
        "\n",
        "Examples: `Charlotte Brontë`, `Virginia Woolf`, `César Aira`, `Herta Müller`, `Elfriede Jelinek`, `Christa Wolf`, `Nikos Kazantzakis`."
      ],
      "metadata": {
        "id": "UEHzdPsZF48L"
      }
    },
    {
      "cell_type": "code",
      "source": [
        "selection_method = \"langlinks\"\n",
        "article_title = \"Nikos Kazantzakis\" # @param [\"Charlotte Brontë\", \"Virginia Woolf\", \"César Aira\", \"Herta Müller\", \"Elfriede Jelinek\", \"Christa Wolf\", \"Nikos Kazantzakis\"] {allow-input: true}\n",
        "selection = article_title\n",
        "site = \"wikipedia\" # @param [\"wikipedia\"] {allow-input: true}\n",
        "lang = \"en\" # @param [\"en\", \"de\", \"fr\", \"es\", \"ja\", \"ru\", \"pt\", \"zh\", \"it\", \"ar\"] {allow-input: true}"
      ],
      "metadata": {
        "id": "8dmQxccxRhYZ",
        "cellView": "form"
      },
      "execution_count": null,
      "outputs": []
    },
    {
      "cell_type": "markdown",
      "source": [
        "## Articles of a category (`category`)\n",
        "This method selects all articles in a MediaWiki category. The `selection` should be a category title.\n",
        "\n",
        "Examples: `19th-century English women writers`, `Chinese women novelists`, `North Korean novelists`."
      ],
      "metadata": {
        "id": "WBN4LRERF9zC"
      }
    },
    {
      "cell_type": "code",
      "source": [
        "selection_method = \"category\"\n",
        "category_title = \"North Korean novelists\" # @param [\"19th-century English women writers\", \"North Korean novelists\", \"Chinese women novelists\", \"South Korean women novelists\", \"Brazilian LGBT novelists\"] {allow-input: true}\n",
        "selection = category_title\n",
        "site = \"wikipedia\" # @param [\"wikipedia\"] {allow-input: true}\n",
        "lang = \"en\" # @param [\"en\", \"de\", \"fr\", \"es\", \"ja\", \"ru\", \"pt\", \"zh\", \"it\", \"ar\"] {allow-input: true}"
      ],
      "metadata": {
        "id": "SyMhfDeM8Js8",
        "cellView": "form"
      },
      "execution_count": null,
      "outputs": []
    },
    {
      "cell_type": "markdown",
      "source": [
        "## Articles from a file (`file`)\n",
        "This method reads article titles or Wikidata Q-IDs from a tab-separated values (TSV) file you supply.\n",
        "\n",
        "The resulting dataframe retains all columns of the supplied file and includes the page stats as additional columns. This allows you to enrich existing datasets.\n",
        "\n",
        "This method is especially useful when combined with output from the [Wikidata Query Service](https://query.wikidata.org/), for example [Greek writers of the 19th and 20th century](https://w.wiki/9G9J).\n",
        "\n",
        "`input_column` determines which column will be used as the article title or Wikidata ID.\n",
        "\n",
        "Wikidata Q-IDs as well as Wikidata URLs as provided by the Wikidata Query Service are automatically recognised."
      ],
      "metadata": {
        "id": "UQJ18-vJGFmw"
      }
    },
    {
      "cell_type": "code",
      "source": [
        "selection_method = \"file\"\n",
        "input_column = \"item\"  # @param {type:\"string\"}\n",
        "site = \"wikipedia\"  # @param [\"wikipedia\"] {allow-input: true}\n",
        "lang = \"en\" # @param [\"en\", \"de\", \"fr\", \"es\", \"ja\", \"ru\", \"pt\", \"zh\", \"it\", \"ar\"] {allow-input: true}\n",
        "\n",
        "dest = \"data/input.tsv\"\n",
        "\n",
        "# Upload file\n",
        "uploaded = files.upload()\n",
        "file_list = list(uploaded.keys())\n",
        "\n",
        "# Check file\n",
        "if len(file_list) > 1:\n",
        "    for file in file_list:\n",
        "        os.remove(file)\n",
        "    raise ValueError(\"Please only upload one file.\")\n",
        "elif len(file_list) == 0 and os.path.isfile(dest):\n",
        "    print(\"No file uploaded. Re-using previous file:\")\n",
        "elif len(file_list) == 1:\n",
        "    filename = file_list[0]\n",
        "    if not filename.endswith(\".tsv\"):\n",
        "        os.remove(filename)\n",
        "        raise ValueError(\"File must be TSV.\")\n",
        "\n",
        "    # Move file to data/ directory\n",
        "    os.rename(filename, dest)\n",
        "    print(f\"File saved as {dest}\")\n",
        "\n",
        "selection = dest\n",
        "\n",
        "# Preview\n",
        "pl.read_csv(dest, separator = \"\\t\").to_pandas()"
      ],
      "metadata": {
        "id": "XTvMNZ_l8ulS",
        "cellView": "form"
      },
      "execution_count": null,
      "outputs": []
    },
    {
      "cell_type": "markdown",
      "source": [
        "# 🛰️ Data Retrieval\n",
        "\n",
        "This section retrieves the data from the pages you selected above.\n",
        "\n",
        "## Columns\n",
        "- `length`: Length of the article in bytes\n",
        "- `n_contributors`: Number of contributors\n",
        "- `n_revisions`: Number of revisions\n",
        "- `n_extlinks`: Number of external links\n",
        "- `n_langlinks`: Number of interlanguage links\n",
        "- `n_links`: Number of internal links\n",
        "- `n_linkshere`: Number of pages linking to this page\n",
        "- `n_categories`: Number of categories the page is in\n",
        "- `pageviews_365d`: Number of pageviews by humans in the last 365 days\n",
        "- `first_revision`: Date of the first revision (i.e. creation date)\n",
        "\n",
        "### Metadata columns\n",
        "- `label`: A human-readable label, e.g. for use in plots\n",
        "- `timestamp`: A UTC timestamp indicating when article stats were retrieved\n",
        "- `selection_method`: The method used to select the articles\n",
        "- `selection`: The selection used to select the articles\n",
        "- `selection_case`: The name of the case within the selection\n",
        "\n",
        "The data is stored in a [Polars](https://pola.rs/) dataframe as a variabled called `data`."
      ],
      "metadata": {
        "id": "J7ao2L7BCzrX"
      }
    },
    {
      "cell_type": "code",
      "source": [
        "# @title Fetch\n",
        "print(\n",
        "    f\"Retrieving data using selection_method='{selection_method}' and selection='{selection}' from {lang}.{site}\"\n",
        ")\n",
        "\n",
        "if \"input_column\" not in locals():\n",
        "    input_column = None\n",
        "\n",
        "data = wikimetrix(\n",
        "  selection_method=selection_method,\n",
        "  selection=selection,\n",
        "  lang=lang,\n",
        "  site=site,\n",
        "  input_column=input_column\n",
        ")\n",
        "\n",
        "data.write_csv(\"data/output.tsv\", separator=\"\\t\")\n",
        "print(\"Wrote data to data/output.tsv\")\n",
        "data.to_pandas()\n"
      ],
      "metadata": {
        "id": "WXeOvWi3A0je",
        "cellView": "form"
      },
      "execution_count": null,
      "outputs": []
    },
    {
      "cell_type": "code",
      "source": [
        "# @title Data export\n",
        "format = \"TSV\"  # @param [\"TSV\", \"Excel\"]\n",
        "filename = \"output\"  # @param {type:\"string\"}\n",
        "\n",
        "export_dir = \"export/\"\n",
        "\n",
        "output_file = \"\" + export_dir + filename\n",
        "\n",
        "if format == \"TSV\":\n",
        "    output_file += \".tsv\"\n",
        "    data.write_csv(output_file, separator=\"\\t\")\n",
        "elif format == \"Excel\":\n",
        "    output_file += \".xlsx\"\n",
        "    data.write_excel(output_file)\n",
        "\n",
        "files.download(output_file)"
      ],
      "metadata": {
        "cellView": "form",
        "id": "g-22c8iMnfpI"
      },
      "execution_count": null,
      "outputs": []
    },
    {
      "cell_type": "markdown",
      "source": [
        "# 📊 Plotting\n",
        "\n",
        "This section allows you to plot your data onto a graph.\n"
      ],
      "metadata": {
        "id": "cprBfFjyC3qS"
      }
    },
    {
      "cell_type": "code",
      "source": [
        "# @title Bar plot\n",
        "\n",
        "template = \"plotly_white\"\n",
        "yaxis_var = \"length\" # @param [\"length\", \"n_contributors\", \"n_revisions\", \"n_extlinks\", \"n_langlinks\", \"n_links\", \"n_linkshere\", \"n_categories\", \"pageviews_365d\", \"first_revision\"] {allow-input: true}\n",
        "yaxis_type = \"Auto\" # @param [\"Auto\", \"linear\", \"log\", \"date\"] {allow-input: true}\n",
        "if yaxis_type == \"Auto\":\n",
        "  yaxis_type = \"-\"\n",
        "\n",
        "title = \"Auto\" # @param [\"Auto\"] {allow-input: true}\n",
        "if title == \"Auto\":\n",
        "  title = f\"{selection_method.title()}: {selection}\"\n",
        "xaxis_title = \"Auto\" # @param [\"Auto\"] {allow-input: true}\n",
        "if xaxis_title == \"Auto\":\n",
        "  xaxis_title = \"Page\"\n",
        "yaxis_title = \"Auto\" # @param [\"Auto\"] {allow-input: true}\n",
        "if yaxis_title == \"Auto\":\n",
        "  yaxis_title = yaxis_var\n",
        "\n",
        "\n",
        "# Bar graph: article size vs language edition\n",
        "# Different versions of x axis labels\n",
        "plt = px.bar(\n",
        "    data.sort(yaxis_var, descending=True).to_pandas(),\n",
        "    x=\"label\",\n",
        "    y=yaxis_var,\n",
        "    template=template,\n",
        "    color_discrete_sequence=px.colors.qualitative.Set2\n",
        ")\n",
        "\n",
        "plt.update_layout(\n",
        "    title=title,\n",
        "    xaxis_title=xaxis_title,\n",
        "    yaxis_title=yaxis_title,\n",
        "    # Rotate x-axis labels 45 degrees\n",
        "    xaxis_tickangle=-45,\n",
        "    yaxis_type=yaxis_type,\n",
        ")\n",
        "\n",
        "plt.show()"
      ],
      "metadata": {
        "id": "P0kslJN0C7A9",
        "cellView": "form"
      },
      "execution_count": null,
      "outputs": []
    },
    {
      "cell_type": "code",
      "source": [
        "# @title Regression plot\n",
        "\n",
        "template = \"plotly_white\"\n",
        "xaxis_var = \"length\"  # @param [\"length\", \"n_contributors\", \"n_revisions\", \"n_extlinks\", \"n_langlinks\", \"n_links\", \"n_linkshere\", \"n_categories\", \"pageviews_365d\", \"first_revision\"] {allow-input: true}\n",
        "yaxis_var = \"n_links\"  # @param [\"length\", \"n_contributors\", \"n_revisions\", \"n_extlinks\", \"n_langlinks\", \"n_links\", \"n_linkshere\", \"n_categories\", \"pageviews_365d\", \"first_revision\"] {allow-input: true}\n",
        "\n",
        "title = \"Auto\"  # @param [\"Auto\"] {allow-input: true}\n",
        "if title == \"Auto\":\n",
        "    title = f\"{selection_method.title()}: {selection}\"\n",
        "xaxis_title = \"Auto\"  # @param [\"Auto\"] {allow-input: true}\n",
        "if xaxis_title == \"Auto\":\n",
        "    xaxis_title = xaxis_var\n",
        "yaxis_title = \"Auto\"  # @param [\"Auto\"] {allow-input: true}\n",
        "if yaxis_title == \"Auto\":\n",
        "    yaxis_title = yaxis_var\n",
        "\n",
        "\n",
        "# Bar graph: article size vs language edition\n",
        "# Different versions of x axis labels\n",
        "plt = px.scatter(\n",
        "    data.to_pandas(),\n",
        "    x=xaxis_var,\n",
        "    y=yaxis_var,\n",
        "    template=template,\n",
        "    color_discrete_sequence=px.colors.qualitative.Set2,\n",
        "    # Add regression line\n",
        "    trendline=\"ols\",\n",
        "    hover_name=\"label\",\n",
        ")\n",
        "\n",
        "plt.update_layout(\n",
        "    title=title,\n",
        "    xaxis_title=xaxis_title,\n",
        "    yaxis_title=yaxis_title,\n",
        ")\n",
        "\n",
        "plt.show()\n"
      ],
      "metadata": {
        "cellView": "form",
        "id": "9f8jT4ObBrJx"
      },
      "execution_count": null,
      "outputs": []
    },
    {
      "cell_type": "markdown",
      "source": [
        "## Plot Export\n",
        "\n",
        "You may export your generated plot as a static image or interactive HTML.\n",
        "\n",
        "### Formats\n",
        "- __HTML__: Interactive plot as shown above. May be viewed using a browser.\n",
        "- __SVG__: Scalable vector graphic. Static image that may be resized without becoming blurry.\n",
        "- __PNG__: Static raster image. May be pixelated or blurry due to Google Colab rendering.\n",
        "\n",
        "\n",
        "### Options\n",
        "- `format`: Format to produce\n",
        "- `filename`: Desired filename without extension  \n",
        "\n",
        "__Non-interactive formats only (SVG/PNG)__  \n",
        "- `width` and `height`: Dimensions in pixels\n",
        "- `scale`: Scale factor to use when exporting the figure. A scale factor larger than 1.0 will increase the image resolution with respect to the figure’s layout pixel dimensions."
      ],
      "metadata": {
        "id": "dxT2EdHmj-Fj"
      }
    },
    {
      "cell_type": "code",
      "source": [
        "# @title Options\n",
        "format = \"HTML\"  # @param [\"HTML\", \"SVG\", \"PNG\"]\n",
        "filename = \"plot\"  # @param {type:\"string\"}\n",
        "width = 1200  # @param {type:\"number\"}\n",
        "height = 600  # @param {type:\"number\"}\n",
        "scale = 1  # @param {type:\"number\"}\n",
        "\n",
        "plots_dir = \"plots/\"\n",
        "\n",
        "output_file = \"\" + plots_dir + filename\n",
        "\n",
        "if format == \"HTML\":\n",
        "    output_file += \".html\"\n",
        "    plt.write_html(output_file)\n",
        "elif format in [\"PNG\", \"SVG\"]:\n",
        "    output_file += \".\" + format.lower()\n",
        "    plt.write_image(\n",
        "        output_file,\n",
        "        scale=scale,\n",
        "        width=width,\n",
        "        height=height,\n",
        "    )\n",
        "\n",
        "files.download(output_file)"
      ],
      "metadata": {
        "id": "vRWo-6LAOzeM",
        "cellView": "form"
      },
      "execution_count": null,
      "outputs": []
    }
  ]
}
